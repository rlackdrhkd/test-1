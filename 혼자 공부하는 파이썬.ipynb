{
 "cells": [
  {
   "cell_type": "markdown",
   "id": "7b96fa94",
   "metadata": {},
   "source": [
    "# 파이썬에서 JSON 데이터 다루기"
   ]
  },
  {
   "cell_type": "code",
   "execution_count": 1,
   "id": "e095aac5",
   "metadata": {},
   "outputs": [
    {
     "name": "stdout",
     "output_type": "stream",
     "text": [
      "혼자 공부하는 데이터 분석\n"
     ]
    }
   ],
   "source": [
    "d = {\"name\": \"혼자 공부하는 데이터 분석\"} # JSON 형식은 키와 값에 큰따옴표를 사용합니다.\n",
    "print(d['name'])"
   ]
  },
  {
   "cell_type": "code",
   "execution_count": 3,
   "id": "5a638560",
   "metadata": {},
   "outputs": [
    {
     "name": "stdout",
     "output_type": "stream",
     "text": [
      "{\"name\": \"혼자 공부하는 데이터 분석\"}\n",
      "<class 'str'>\n"
     ]
    }
   ],
   "source": [
    "import json\n",
    "\n",
    "d_str = json.dumps(d, ensure_ascii=False) # json.dumps() 함수는 파이썬 객체를 JSON 형식에 맞는 텍스트로 바꿀 때 사용\n",
    "print(d_str)\n",
    "\n",
    "print(type(d_str)) # type() 함수는 데이터 타입을 확인할 수 있습니다."
   ]
  },
  {
   "cell_type": "code",
   "execution_count": 5,
   "id": "c8546dfe",
   "metadata": {},
   "outputs": [
    {
     "name": "stdout",
     "output_type": "stream",
     "text": [
      "혼자 공부하는 데이터 분석\n",
      "<class 'dict'>\n",
      "혼자 공부하는 데이터 분석\n",
      "박해선\n",
      "2022\n"
     ]
    }
   ],
   "source": [
    "### JSON 문자열을 파이썬 객체로 변환하기: json.loads() 함수\n",
    "\n",
    "# json.loads() 함수를 사용하면 문자열을 파이썬 객체로 변환할 수 있다.\n",
    "\n",
    "d2 = json.loads(d_str)\n",
    "print(d2['name'])\n",
    "\n",
    "print(type(d2))\n",
    "\n",
    "d3 = json.loads('{\"name\": \"혼자 공부하는 데이터 분석\", \"author\": \"박해선\", \"year\": 2022}')\n",
    "\n",
    "print(d3['name'])\n",
    "print(d3['author'])\n",
    "print(d3['year'])"
   ]
  },
  {
   "cell_type": "code",
   "execution_count": 6,
   "id": "3d0bbf64",
   "metadata": {},
   "outputs": [
    {
     "name": "stdout",
     "output_type": "stream",
     "text": [
      "홍길동\n"
     ]
    }
   ],
   "source": [
    "d3 = json.loads('{\"name\": \"혼자 공부하는 데이터 분석\", \"author\": [\"박해선\",\"홍길동\"], \"year\": 2022}')\n",
    "\n",
    "print(d3['author'][1])"
   ]
  },
  {
   "cell_type": "code",
   "execution_count": 10,
   "id": "f9aed8ba",
   "metadata": {},
   "outputs": [
    {
     "name": "stdout",
     "output_type": "stream",
     "text": [
      "혼자 공부하는 데이터 분석\n"
     ]
    }
   ],
   "source": [
    "d4_str = \"\"\" \n",
    "[\n",
    "    {\"name\": \"혼자 공부하는 데이터 분석\", \"author\": \"박해선\", \"year\": 2022},\n",
    "    {\"name\": \"혼자 공부하는 머신러닝+딥러닝\", \"author\": \"박해선\", \"year\": 2020}\n",
    "]\n",
    "\"\"\"\n",
    "d4 = json.loads(d4_str)\n",
    "print(d4[0]['name'])"
   ]
  },
  {
   "cell_type": "code",
   "execution_count": 11,
   "id": "0f0bd1aa",
   "metadata": {},
   "outputs": [
    {
     "data": {
      "text/html": [
       "<div>\n",
       "<style scoped>\n",
       "    .dataframe tbody tr th:only-of-type {\n",
       "        vertical-align: middle;\n",
       "    }\n",
       "\n",
       "    .dataframe tbody tr th {\n",
       "        vertical-align: top;\n",
       "    }\n",
       "\n",
       "    .dataframe thead th {\n",
       "        text-align: right;\n",
       "    }\n",
       "</style>\n",
       "<table border=\"1\" class=\"dataframe\">\n",
       "  <thead>\n",
       "    <tr style=\"text-align: right;\">\n",
       "      <th></th>\n",
       "      <th>name</th>\n",
       "      <th>author</th>\n",
       "      <th>year</th>\n",
       "    </tr>\n",
       "  </thead>\n",
       "  <tbody>\n",
       "    <tr>\n",
       "      <th>0</th>\n",
       "      <td>혼자 공부하는 데이터 분석</td>\n",
       "      <td>박해선</td>\n",
       "      <td>2022</td>\n",
       "    </tr>\n",
       "    <tr>\n",
       "      <th>1</th>\n",
       "      <td>혼자 공부하는 머신러닝+딥러닝</td>\n",
       "      <td>박해선</td>\n",
       "      <td>2020</td>\n",
       "    </tr>\n",
       "  </tbody>\n",
       "</table>\n",
       "</div>"
      ],
      "text/plain": [
       "               name author  year\n",
       "0    혼자 공부하는 데이터 분석    박해선  2022\n",
       "1  혼자 공부하는 머신러닝+딥러닝    박해선  2020"
      ]
     },
     "execution_count": 11,
     "metadata": {},
     "output_type": "execute_result"
    }
   ],
   "source": [
    "import pandas as pd\n",
    "pd.read_json(d4_str)"
   ]
  },
  {
   "cell_type": "code",
   "execution_count": 12,
   "id": "11b15078",
   "metadata": {},
   "outputs": [
    {
     "data": {
      "text/html": [
       "<div>\n",
       "<style scoped>\n",
       "    .dataframe tbody tr th:only-of-type {\n",
       "        vertical-align: middle;\n",
       "    }\n",
       "\n",
       "    .dataframe tbody tr th {\n",
       "        vertical-align: top;\n",
       "    }\n",
       "\n",
       "    .dataframe thead th {\n",
       "        text-align: right;\n",
       "    }\n",
       "</style>\n",
       "<table border=\"1\" class=\"dataframe\">\n",
       "  <thead>\n",
       "    <tr style=\"text-align: right;\">\n",
       "      <th></th>\n",
       "      <th>name</th>\n",
       "      <th>author</th>\n",
       "      <th>year</th>\n",
       "    </tr>\n",
       "  </thead>\n",
       "  <tbody>\n",
       "    <tr>\n",
       "      <th>0</th>\n",
       "      <td>혼자 공부하는 데이터 분석</td>\n",
       "      <td>박해선</td>\n",
       "      <td>2022</td>\n",
       "    </tr>\n",
       "    <tr>\n",
       "      <th>1</th>\n",
       "      <td>혼자 공부하는 머신러닝+딥러닝</td>\n",
       "      <td>박해선</td>\n",
       "      <td>2020</td>\n",
       "    </tr>\n",
       "  </tbody>\n",
       "</table>\n",
       "</div>"
      ],
      "text/plain": [
       "               name author  year\n",
       "0    혼자 공부하는 데이터 분석    박해선  2022\n",
       "1  혼자 공부하는 머신러닝+딥러닝    박해선  2020"
      ]
     },
     "execution_count": 12,
     "metadata": {},
     "output_type": "execute_result"
    }
   ],
   "source": [
    "pd.DataFrame(d4) # DataFrame 클래스에 파이썬 리스트를 넣어줍니다."
   ]
  },
  {
   "cell_type": "markdown",
   "id": "81ba7efc",
   "metadata": {},
   "source": [
    "# 파이썬에서 XML 데이터 다루기"
   ]
  },
  {
   "cell_type": "markdown",
   "id": "ed89425d",
   "metadata": {},
   "source": [
    "### XML은 eXtensible Markup Language의 약자입니다. HTML은 웹 페이지를 표현하는 데는 뛰어나지만\n",
    "### 구조적이지 못하기 때문에 프로그램 간의 약속대로 전송하는 API에서는 적절하지 않습니다.\n",
    "### 대신 XML은 컴퓨터와 사람이 모두 읽고 쓰기 편한 문서 포맷을 위해 고안되었습니다."
   ]
  },
  {
   "cell_type": "code",
   "execution_count": 14,
   "id": "ac0d85f4",
   "metadata": {},
   "outputs": [
    {
     "data": {
      "text/plain": [
       "'\\n<book>\\n    <name>혼자 공부하는 데이터 분석</name>\\n    <author>박해선</author>\\n    <year>2022</year>\\n</book>\\n'"
      ]
     },
     "execution_count": 14,
     "metadata": {},
     "output_type": "execute_result"
    }
   ],
   "source": [
    "x_str = \"\"\"\n",
    "<book>\n",
    "    <name>혼자 공부하는 데이터 분석</name>\n",
    "    <author>박해선</author>\n",
    "    <year>2022</year>\n",
    "</book>\n",
    "\"\"\""
   ]
  },
  {
   "cell_type": "markdown",
   "id": "bf1b58f7",
   "metadata": {},
   "source": [
    "### 파이썬에서 기본으로 제공되는 xml 패키지는 XML 문서를 읽고 쓸 수 있는 간편한 API를 제공\n",
    "### 여기서는 xml.etree.ElementTree 모듈의 fromstring() 함수를 사용해 x_str 문자열을 XML로 변환"
   ]
  },
  {
   "cell_type": "code",
   "execution_count": 16,
   "id": "caac1228",
   "metadata": {},
   "outputs": [
    {
     "name": "stdout",
     "output_type": "stream",
     "text": [
      "<class 'xml.etree.ElementTree.Element'>\n"
     ]
    }
   ],
   "source": [
    "import xml.etree.ElementTree as et\n",
    "book = et.fromstring(x_str)\n",
    "print(type(book))"
   ]
  },
  {
   "cell_type": "markdown",
   "id": "1bc32bb8",
   "metadata": {},
   "source": [
    "### book 객체는 x_str에서 가장 먼저 등장하는 부모 엘리멘트인 book에 해당합니다.\n",
    "### book 객체의 tag 속성을 출력하면 엘리멘트 이름을 쉽게 확인할 수 있습니다."
   ]
  },
  {
   "cell_type": "code",
   "execution_count": 17,
   "id": "e8fd60d8",
   "metadata": {},
   "outputs": [
    {
     "name": "stdout",
     "output_type": "stream",
     "text": [
      "book\n"
     ]
    }
   ],
   "source": [
    "print(book.tag)"
   ]
  },
  {
   "cell_type": "code",
   "execution_count": 18,
   "id": "d988dfe3",
   "metadata": {},
   "outputs": [
    {
     "name": "stdout",
     "output_type": "stream",
     "text": [
      "[<Element 'name' at 0x000001E13634B400>, <Element 'author' at 0x000001E1363546D0>, <Element 'year' at 0x000001E136354680>]\n"
     ]
    }
   ],
   "source": [
    "book_childs = list(book) # 리스트로 변환할 때는 list() 함수를 사용합니다.\n",
    "print(book_childs)"
   ]
  },
  {
   "cell_type": "markdown",
   "id": "31872135",
   "metadata": {},
   "source": [
    "### book_childs 리스트 각 항목을 name, author, year 변수에 할당하고 text 속성으로 엘리멘트에 있는 텍스트 출력\n",
    "### XML은 자식 엘리멘트 순서가 항상 일정하다는 것을 보장하지 않습니다.\n",
    "### book_childs에서 순서대로 자식 엘리멘트를 찾는 것은 위험하다."
   ]
  },
  {
   "cell_type": "code",
   "execution_count": 19,
   "id": "0627ca31",
   "metadata": {},
   "outputs": [
    {
     "name": "stdout",
     "output_type": "stream",
     "text": [
      "혼자 공부하는 데이터 분석\n",
      "박해선\n",
      "2022\n"
     ]
    }
   ],
   "source": [
    "name, author, year = book_childs\n",
    "print(name.text)\n",
    "print(author.text)\n",
    "print(year.text)"
   ]
  },
  {
   "cell_type": "markdown",
   "id": "3fbc19c2",
   "metadata": {},
   "source": [
    "### book 객체의 **findtext() 메서드**를 사용하면 해당하는 자식 엘리먼트를 탐색하여 자동으로 텍스트를 반환"
   ]
  },
  {
   "cell_type": "code",
   "execution_count": 20,
   "id": "196a1e92",
   "metadata": {},
   "outputs": [
    {
     "name": "stdout",
     "output_type": "stream",
     "text": [
      "혼자 공부하는 데이터 분석\n",
      "박해선\n",
      "2022\n"
     ]
    }
   ],
   "source": [
    "name = book.findtext('name')\n",
    "author = book.findtext('author')\n",
    "year = book.findtext('year')\n",
    "print(name)\n",
    "print(author)\n",
    "print(year)"
   ]
  },
  {
   "cell_type": "code",
   "execution_count": 21,
   "id": "f1f1c3e5",
   "metadata": {},
   "outputs": [
    {
     "name": "stdout",
     "output_type": "stream",
     "text": [
      "books\n"
     ]
    }
   ],
   "source": [
    "x2_str = \"\"\"\n",
    "<books>\n",
    "    <book>\n",
    "        <name>혼자 공부하는 데이터 분석</name>\n",
    "        <author>박해선</author>\n",
    "        <year>2022</year>\n",
    "    </book>\n",
    "    <book>\n",
    "        <name>혼자 공부하는 머신러닝+딥러닝</name>\n",
    "        <author>박해선</author>\n",
    "        <year>2020</year>\n",
    "    </book>\n",
    "</books>\n",
    "\"\"\"\n",
    "\n",
    "books = et.fromstring(x2_str)\n",
    "print(books.tag)"
   ]
  },
  {
   "cell_type": "markdown",
   "id": "8d60fca6",
   "metadata": {},
   "source": [
    "## 여러 개의 자식 엘리멘트 확인하기: findall() 메서드와 for 문\n",
    "\n",
    "### 동일한 이름을 가진 여러 개의 자식 엘리멘트를 찾을 때는 findall() 메서드와 for 문을 함께 사용\n",
    "### 다음 코드는 findall() 메서드가 반환하는 자식 엘리멘트 book에서 name,author,year를 찾아 출력"
   ]
  },
  {
   "cell_type": "code",
   "execution_count": 22,
   "id": "a0f26c98",
   "metadata": {},
   "outputs": [
    {
     "name": "stdout",
     "output_type": "stream",
     "text": [
      "혼자 공부하는 데이터 분석\n",
      "박해선\n",
      "2022\n",
      "\n",
      "혼자 공부하는 머신러닝+딥러닝\n",
      "박해선\n",
      "2020\n",
      "\n"
     ]
    }
   ],
   "source": [
    "for book in books.findall('book'):\n",
    "    name = book.findtext('name')\n",
    "    author = book.findtext('author')\n",
    "    year = book.findtext('year')\n",
    "    print(name)\n",
    "    print(author)\n",
    "    print(year)\n",
    "    print()"
   ]
  },
  {
   "cell_type": "markdown",
   "id": "7d6e3f7d",
   "metadata": {},
   "source": [
    "### read_xml() 함수를 사용하면 XML을 데이터프레임으로 변환해 줍니다."
   ]
  },
  {
   "cell_type": "code",
   "execution_count": 23,
   "id": "1f8cf34c",
   "metadata": {},
   "outputs": [
    {
     "data": {
      "text/html": [
       "<div>\n",
       "<style scoped>\n",
       "    .dataframe tbody tr th:only-of-type {\n",
       "        vertical-align: middle;\n",
       "    }\n",
       "\n",
       "    .dataframe tbody tr th {\n",
       "        vertical-align: top;\n",
       "    }\n",
       "\n",
       "    .dataframe thead th {\n",
       "        text-align: right;\n",
       "    }\n",
       "</style>\n",
       "<table border=\"1\" class=\"dataframe\">\n",
       "  <thead>\n",
       "    <tr style=\"text-align: right;\">\n",
       "      <th></th>\n",
       "      <th>name</th>\n",
       "      <th>author</th>\n",
       "      <th>year</th>\n",
       "    </tr>\n",
       "  </thead>\n",
       "  <tbody>\n",
       "    <tr>\n",
       "      <th>0</th>\n",
       "      <td>혼자 공부하는 데이터 분석</td>\n",
       "      <td>박해선</td>\n",
       "      <td>2022</td>\n",
       "    </tr>\n",
       "    <tr>\n",
       "      <th>1</th>\n",
       "      <td>혼자 공부하는 머신러닝+딥러닝</td>\n",
       "      <td>박해선</td>\n",
       "      <td>2020</td>\n",
       "    </tr>\n",
       "  </tbody>\n",
       "</table>\n",
       "</div>"
      ],
      "text/plain": [
       "               name author  year\n",
       "0    혼자 공부하는 데이터 분석    박해선  2022\n",
       "1  혼자 공부하는 머신러닝+딥러닝    박해선  2020"
      ]
     },
     "execution_count": 23,
     "metadata": {},
     "output_type": "execute_result"
    }
   ],
   "source": [
    "pd.read_xml(x2_str)"
   ]
  },
  {
   "cell_type": "markdown",
   "id": "20fb9fa5",
   "metadata": {},
   "source": [
    "# API로 20대가 가장 좋아하는 도서 찾기"
   ]
  },
  {
   "cell_type": "code",
   "execution_count": null,
   "id": "318f4384",
   "metadata": {},
   "outputs": [],
   "source": []
  }
 ],
 "metadata": {
  "kernelspec": {
   "display_name": "Python 3 (ipykernel)",
   "language": "python",
   "name": "python3"
  },
  "language_info": {
   "codemirror_mode": {
    "name": "ipython",
    "version": 3
   },
   "file_extension": ".py",
   "mimetype": "text/x-python",
   "name": "python",
   "nbconvert_exporter": "python",
   "pygments_lexer": "ipython3",
   "version": "3.9.12"
  }
 },
 "nbformat": 4,
 "nbformat_minor": 5
}
